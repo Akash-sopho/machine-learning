{
 "cells": [
  {
   "cell_type": "code",
   "execution_count": 116,
   "metadata": {},
   "outputs": [
    {
     "name": "stdout",
     "output_type": "stream",
     "text": [
      "[[ 0.          1.63151556 -0.26444658  2.53456715]\n",
      " [ 1.          0.15395105  1.41953348  1.33312079]\n",
      " [ 0.          2.02172912  0.26204638  2.87997174]\n",
      " ...\n",
      " [ 0.          0.19320188  0.36039894  1.86764457]\n",
      " [ 0.          1.68409597 -0.0232182   3.30625768]\n",
      " [ 2.          0.9752179   2.30595893  0.22982688]]\n",
      "3\n"
     ]
    }
   ],
   "source": [
    "import csv\n",
    "import random\n",
    "import math\n",
    "from numpy import shape\n",
    "from numpy import array\n",
    "from numpy import mean\n",
    "from numpy import cov\n",
    "from numpy import vstack\n",
    "from numpy import delete\n",
    "from numpy.linalg import eig\n",
    " \n",
    "def loadCsv(filename):\n",
    "    lines = csv.reader(open(filename, \"rb\"))\n",
    "    dataset = list(lines)\n",
    "    dataset.pop(0)\n",
    "    for i in range(len(dataset)):\n",
    "        if(dataset[i][0]=='HEALTHY'):\n",
    "            dataset[i][0] = 0\n",
    "        if(dataset[i][0]=='SURGERY'):\n",
    "            dataset[i][0] = 1\n",
    "        if(dataset[i][0]=='MEDICATION'):\n",
    "            dataset[i][0] = 2\n",
    "        for k in range(4):\n",
    "            dataset[i][k] = float(dataset[i][k])\n",
    "    dataset = array(dataset, dtype = 'float')\n",
    "    return dataset\n",
    "\n",
    "def getsep(dataset):\n",
    "    #print dataset\n",
    "    sep = [array([[0, 0, 0, 0]]) for i in range(3)]\n",
    "    for i in range(3):\n",
    "        sep[i] = vstack((sep[i], dataset[dataset[:,0] == i]))\n",
    "        sep[i] = delete(sep[i], 0, axis = 0)\n",
    "        sep[i] = delete(sep[i], 0, axis = 1)\n",
    "    \n",
    "    print sep[0].shape[1]\n",
    "    \n",
    "    return sep\n",
    "\n",
    "def msd(sep):\n",
    "    pm = m = sd = []\n",
    "    for i in range(len(sep)):\n",
    "        m.append(mean(sep[i], axis = 0))\n",
    "        sd.append(cov(sep[i]))\n",
    "    pm.append([m, sd])\n",
    "#    print cov(sep[0]).shape\n",
    "#    print pm\n",
    "\n",
    "def prob()\n",
    "\n",
    "filename = 'Medical_data.csv'\n",
    "splitRatio = 0.67\n",
    "dataset = loadCsv(filename)\n",
    "print dataset\n",
    "sep = getsep(dataset)\n",
    "pm = msd(sep)\n"
   ]
  },
  {
   "cell_type": "code",
   "execution_count": null,
   "metadata": {},
   "outputs": [],
   "source": []
  }
 ],
 "metadata": {
  "kernelspec": {
   "display_name": "Python 2",
   "language": "python",
   "name": "python2"
  },
  "language_info": {
   "codemirror_mode": {
    "name": "ipython",
    "version": 2
   },
   "file_extension": ".py",
   "mimetype": "text/x-python",
   "name": "python",
   "nbconvert_exporter": "python",
   "pygments_lexer": "ipython2",
   "version": "2.7.15"
  }
 },
 "nbformat": 4,
 "nbformat_minor": 2
}
